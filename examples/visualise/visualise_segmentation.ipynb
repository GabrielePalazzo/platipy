{
 "cells": [
  {
   "cell_type": "markdown",
   "metadata": {},
   "source": [
    "# Visualise Image Example\n",
    "\n",
    "This notebook demonstrates how to display an image along with some contours, scalar overlays and bounding boxes."
   ]
  },
  {
   "cell_type": "code",
   "execution_count": null,
   "metadata": {},
   "outputs": [],
   "source": [
    "%load_ext autoreload\n",
    "%autoreload 2"
   ]
  },
  {
   "cell_type": "code",
   "execution_count": null,
   "metadata": {},
   "outputs": [],
   "source": [
    "\"\"\"\n",
    "This 'ImageVisualiser' class does most of the heavy lifting regarding visualisation\n",
    "It has a number of helpful functions, and makes adding additional information to an\n",
    "image (relatively) pain-free\n",
    "\"\"\"\n",
    "from platipy.imaging import ImageVisualiser\n",
    "\n",
    "\n",
    "\"\"\"\n",
    "Import the usual suspects\n",
    "\"\"\"\n",
    "\n",
    "import numpy as np\n",
    "import SimpleITK as sitk\n",
    "from pathlib import Path\n",
    "import matplotlib.pyplot as plt\n",
    "\n",
    "from platipy.imaging.tests.data import get_lung_nifti"
   ]
  },
  {
   "cell_type": "code",
   "execution_count": null,
   "metadata": {},
   "outputs": [],
   "source": [
    "input_directory = get_lung_nifti()"
   ]
  },
  {
   "cell_type": "code",
   "execution_count": null,
   "metadata": {
    "tags": []
   },
   "outputs": [],
   "source": [
    "\"\"\"\n",
    "Read in the data\n",
    "\n",
    "ct_image : the x-ray computed tomography scan (3D)\n",
    "contours : a dictionary of binary masks\n",
    "\"\"\"\n",
    "\n",
    "pat_directory = next(input_directory.glob(\"*\"))\n",
    "\n",
    "# Read in the CT image\n",
    "ct_filename = next(pat_directory.glob(\"**/IMAGES/*.nii.gz\"))\n",
    "ct_image = sitk.ReadImage(ct_filename.as_posix())\n",
    "\n",
    "# Read in the RTStruct contours as binary masks\n",
    "contour_filename_list = list(pat_directory.glob(\"**/STRUCTURES/*.nii.gz\"))\n",
    "\n",
    "contours = {}\n",
    "for contour_filename in contour_filename_list:\n",
    "    _file = contour_filename.as_posix()\n",
    "    _name = _file[_file.rfind(\"_\")+1:-7]\n",
    "    \n",
    "    contours[_name] = sitk.ReadImage(contour_filename.as_posix())"
   ]
  },
  {
   "cell_type": "code",
   "execution_count": null,
   "metadata": {},
   "outputs": [],
   "source": [
    "\"\"\"\n",
    "Display the image with the contours\n",
    "\n",
    "Here we define 'cut', the location of orthogonal slices\n",
    "\n",
    "    cut : (\n",
    "        transaxial slice location *or* first axis,\n",
    "        coronal slice location *or* second axis,\n",
    "        saggital slice location *or* third axis,\n",
    "        )\n",
    "    \n",
    "\"\"\"\n",
    "\n",
    "image_visualiser = ImageVisualiser(ct_image, cut=(50,200,256))\n",
    "image_visualiser.add_contour(contours)\n",
    "fig = image_visualiser.show()"
   ]
  },
  {
   "cell_type": "code",
   "execution_count": null,
   "metadata": {},
   "outputs": [],
   "source": [
    "\"\"\"\n",
    "Display the image with the contours\n",
    "\n",
    "Here we change the intensity windowing, for example to better visualise lung tissue\n",
    "\n",
    "window : (\n",
    "    minimum intensity,\n",
    "    range in intensity\n",
    "    )\n",
    "    \n",
    "We \n",
    "    \n",
    "\"\"\"\n",
    "\n",
    "image_visualiser = ImageVisualiser(ct_image, cut=(50,200,256), window=(-700, 1100))\n",
    "image_visualiser.add_contour(contours)\n",
    "fig = image_visualiser.show()"
   ]
  },
  {
   "cell_type": "code",
   "execution_count": null,
   "metadata": {},
   "outputs": [],
   "source": []
  }
 ],
 "metadata": {
  "kernelspec": {
   "display_name": "Python 3",
   "language": "python",
   "name": "python3"
  },
  "language_info": {
   "codemirror_mode": {
    "name": "ipython",
    "version": 3
   },
   "file_extension": ".py",
   "mimetype": "text/x-python",
   "name": "python",
   "nbconvert_exporter": "python",
   "pygments_lexer": "ipython3",
   "version": "3.9.2"
  }
 },
 "nbformat": 4,
 "nbformat_minor": 2
}
